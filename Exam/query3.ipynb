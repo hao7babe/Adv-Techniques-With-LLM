{
 "cells": [
  {
   "cell_type": "markdown",
   "id": "a9922e9e",
   "metadata": {},
   "source": [
    "\n",
    "### Question\n",
    "Suppose that embeddings of tokens were generated using an approach which preserves the relationship between embeddings precisely. A user sends a query to the LLM about “Paris.” The embedding of Paris is as follows:  \n",
    "**E(Paris) = [1, 2, 1]**\n",
    "\n",
    "If a KNN approach (K = 2) with Euclidean distance is used to find relevant tokens, which tokens will be retrieved from the Vector Database for “Paris” query?"
   ]
  },
  {
   "cell_type": "markdown",
   "id": "6a6de485",
   "metadata": {},
   "source": [
    "\n",
    "### Solution\n",
    "\n",
    "We will calculate the Euclidean distance between the query embedding `E(Paris) = [1, 2, 1]` and each token embedding in the vector database."
   ]
  },
  {
   "cell_type": "markdown",
   "id": "01df7fba",
   "metadata": {},
   "source": [
    "#### Formula:\n",
    "$$\n",
    "\\text{Euclidean Distance} = \\sqrt{(E_{1,\\text{Query}} - E_{1,\\text{Token}})^2 + (E_{2,\\text{Query}} - E_{2,\\text{Token}})^2 + (E_{3,\\text{Query}} - E_{3,\\text{Token}})^2}\n",
    "$$"
   ]
  },
  {
   "cell_type": "markdown",
   "id": "92b546dc",
   "metadata": {},
   "source": [
    "#### Token Embeddings:\n",
    "- **City**: \\([1, 1, 0]\\)\n",
    "- **Capital**: \\([1, 2, 0]\\)\n",
    "- **French**: \\([3, 0, 1]\\)\n",
    "- **Spain**: \\([1, 3, 4]\\)\n",
    "- **France**: \\([1, 3, 1]\\)"
   ]
  },
  {
   "cell_type": "markdown",
   "id": "ef61c701",
   "metadata": {},
   "source": [
    "#### Step-by-step Calculations:\n",
    "Distance to City:\n",
    "$$\n",
    "\\sqrt{(1 - 1)^2 + (2 - 1)^2 + (1 - 0)^2} = \\sqrt{0 + 1 + 1} = \\sqrt{2} \\approx 1.41\n",
    "$$\n",
    "Distance to Capital:\n",
    "$$\n",
    "\\sqrt{(1 - 1)^2 + (2 - 2)^2 + (1 - 0)^2} = \\sqrt{0 + 0 + 1} = \\sqrt{1} = 1.0\n",
    "$$\n",
    "Distance to French:\n",
    "$$\n",
    "\\sqrt{(1 - 3)^2 + (2 - 0)^2 + (1 - 1)^2} = \\sqrt{4 + 4 + 0} = \\sqrt{8} \\approx 2.83\n",
    "$$\n",
    "Distance to Spain:\n",
    "$$\n",
    "\\sqrt{(1 - 1)^2 + (2 - 3)^2 + (1 - 4)^2} = \\sqrt{0 + 1 + 9} = \\sqrt{10} \\approx 3.16\n",
    "$$\n",
    "Distance to France:\n",
    "$$\n",
    "\\sqrt{(1 - 1)^2 + (2 - 3)^2 + (1 - 1)^2} = \\sqrt{0 + 1 + 0} = \\sqrt{1} = 1.0\n",
    "$$"
   ]
  },
  {
   "cell_type": "markdown",
   "id": "e259c22f",
   "metadata": {},
   "source": [
    "#### Results Summary:\n",
    "- **City**: \\(1.41\\)\n",
    "- **Capital**: \\(1.0\\)\n",
    "- **French**: \\(2.83\\)\n",
    "- **Spain**: \\(3.16\\)\n",
    "- **France**: \\(1.0\\)"
   ]
  },
  {
   "cell_type": "markdown",
   "id": "d81c3a68",
   "metadata": {},
   "source": [
    "#### KNN Retrieval (K = 2):\n",
    "The two tokens with the smallest distances to `E(Paris)` are:\n",
    "1. **Capital** (distance = 1.0)\n",
    "2. **France** (distance = 1.0)"
   ]
  },
  {
   "cell_type": "markdown",
   "id": "dc466a11",
   "metadata": {},
   "source": [
    "### Final Answer:\n",
    "The tokens retrieved from the Vector Database for the query “Paris” are:\n",
    "**Capital** and **France**.\n"
   ]
  }
 ],
 "metadata": {
  "kernelspec": {
   "display_name": "Python 3 (ipykernel)",
   "language": "python",
   "name": "python3"
  },
  "language_info": {
   "codemirror_mode": {
    "name": "ipython",
    "version": 3
   },
   "file_extension": ".py",
   "mimetype": "text/x-python",
   "name": "python",
   "nbconvert_exporter": "python",
   "pygments_lexer": "ipython3",
   "version": "3.11.5"
  }
 },
 "nbformat": 4,
 "nbformat_minor": 5
}

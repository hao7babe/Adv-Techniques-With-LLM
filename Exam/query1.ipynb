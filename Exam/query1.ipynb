{
 "cells": [
  {
   "cell_type": "markdown",
   "id": "fd7f1ffa",
   "metadata": {},
   "source": [
    "## 1. Fine-Tuning vs. RAG for Improving LLM Performance\n",
    "\n",
    "### Question\n",
    "We considered an LLM for this purpose but based on opinions of subject matter experts the treatments prescribed by the LLM are not aligned with precise treatments required for emergency medicine. We have a static dataset of emergency cases with the correct diagnoses (labels). Explain which approach, fine-tuning or RAG, is suitable for improving performance of the LLM.\n",
    "\n",
    "### Answer\n",
    "**Recommendation: Fine-Tuning**\n",
    "- Fine-tuning updates the LLM’s internal weights using the static dataset, enabling the model to better align with precise emergency medicine treatments.\n",
    "- The static dataset provides a structured and complete set of correct diagnoses that can directly improve the model's performance.\n",
    "\n",
    "#### Advantages over RAG:\n",
    "- Fine-tuning ensures the model internalizes the knowledge, which eliminates reliance on external retrieval mechanisms.\n",
    "- RAG adds complexity as it requires maintaining and querying an external knowledge base, which may not ensure response improvements."
   ]
  },
  {
   "cell_type": "markdown",
   "id": "34fbfde0",
   "metadata": {},
   "source": [
    "\n",
    "## 2. Storing Real-Time Treatment Procedures: Fine-Tuning vs. RAG\n",
    "\n",
    "### Question\n",
    "Suppose that we receive real-time treatment procedures (sometimes containing images) for different diseases from health authorities on the internet. When the LLM diagnoses a disease, it should also provide doctors with relevant treatment procedures for that disease. Explain which approach, fine-tuning or RAG, is the best way to store these procedures and what are the advantages of the proposed solution to the other one.\n",
    "\n",
    "### Answer\n",
    "**Recommendation: RAG (Retrieval-Augmented Generation)**\n",
    "- RAG allows the integration of dynamic, real-time treatment procedures from health authorities by storing them in an external, easily updatable knowledge base.\n",
    "- This approach supports the inclusion of multimedia content, such as images, without requiring changes to the LLM.\n",
    "\n",
    "#### Advantages over Fine-Tuning:\n",
    "- Fine-tuning is time-intensive and requires retraining the model each time new treatment data is received.\n",
    "- RAG enables quick updates to the knowledge base and ensures the LLM provides the most up-to-date information without retraining."
   ]
  },
  {
   "cell_type": "markdown",
   "id": "4c62e904",
   "metadata": {},
   "source": [
    "## 3. Prompt and Decoding Analysis\n",
    "\n",
    "### Question\n",
    "Prompt: A patient is experiencing a high fever, low blood pressure, and a headache. What is the most probable cause of these symptoms?\n",
    "\n",
    "Suppose that the probabilities of LLM’s response are as follows:\n",
    "\n",
    "P(Migraine)=45%, P(Sepsis)=25%, P(Diabetes)=15% , P(Heart Attack)=10%, P(Diarrhea)=5%"
   ]
  },
  {
   "cell_type": "markdown",
   "id": "2dbe3fe5",
   "metadata": {},
   "source": [
    "### a) Question\n",
    "What are probable responses of the LLM if K=4 is used in Top-K approach?\n",
    "\n",
    "### Answer\n",
    "With **K=4**, the LLM selects the top 4 responses based on probability:\n",
    "- Migraine (45%)\n",
    "- Sepsis (25%)\n",
    "- Diabetes (15%)\n",
    "- Heart Attack (10%)"
   ]
  },
  {
   "cell_type": "markdown",
   "id": "022643a5",
   "metadata": {},
   "source": [
    "### b) Question\n",
    "What are probable responses of the LLM if P=80% is used in Top-P approach?\n",
    "\n",
    "### Answer\n",
    "With **P=80%**, the LLM selects responses until the cumulative probability exceeds 80%:\n",
    "- Migraine (45%)\n",
    "- Sepsis (25%)\n",
    "- Diabetes (15%)\n",
    "- Cumulative Probability = 85%\n",
    "- Responses: Migraine, Sepsis, Diabetes"
   ]
  },
  {
   "cell_type": "markdown",
   "id": "25399008",
   "metadata": {},
   "source": [
    "### c) Question\n",
    "Suppose that we tested four combinations of decoding parameters (Temperature and K) using the prompt. For each combination of parameters, we ran the prompt for three times (iterations) as follows: Regarding the responses, which of the above combinations would be most suitable for a medical decision support system which needs stability of results? Explain why such a setting produces more stable results.\n",
    "\n",
    "### Answer\n",
    "The combination with **Temperature = 0.3** and **K = 2** is most suitable for a medical decision support system requiring stability. \n",
    "\n",
    "#### Explanation:\n",
    "- **Lower temperature (0.3):** Reduces randomness, ensuring more deterministic responses.\n",
    "- **Smaller K (K=2):** Focuses on the most probable responses, minimizing variability across iterations.\n",
    "\n",
    "This setting consistently produces the same or highly similar responses, making it reliable for medical decision-making."
   ]
  },
  {
   "cell_type": "markdown",
   "id": "cd5c2471",
   "metadata": {},
   "source": [
    "### d) Question\n",
    "If a self-consistency approach is applied to all responses in the table to produce a unified diagnosis, what would that diagnosis be?\n",
    "\n",
    "### Answer\n",
    "Based on the responses in the table, the most frequent response is **Migraine**. \n",
    "\n",
    "**Unified Diagnosis:** Migraine"
   ]
  },
  {
   "cell_type": "code",
   "execution_count": null,
   "id": "63672d79",
   "metadata": {},
   "outputs": [],
   "source": []
  }
 ],
 "metadata": {
  "kernelspec": {
   "display_name": "Python 3 (ipykernel)",
   "language": "python",
   "name": "python3"
  },
  "language_info": {
   "codemirror_mode": {
    "name": "ipython",
    "version": 3
   },
   "file_extension": ".py",
   "mimetype": "text/x-python",
   "name": "python",
   "nbconvert_exporter": "python",
   "pygments_lexer": "ipython3",
   "version": "3.11.5"
  }
 },
 "nbformat": 4,
 "nbformat_minor": 5
}

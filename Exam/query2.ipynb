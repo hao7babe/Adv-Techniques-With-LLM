{
 "cells": [
  {
   "cell_type": "markdown",
   "id": "f65ac3e7",
   "metadata": {},
   "source": [
    "## 1. Correct Response in Wrong Format: Chain of Thoughts vs. Few-shot Learning\n",
    "\n",
    "### Question\n",
    "For the following query the LLM provides a correct response but it is presented in a wrong format. Explain which approach, Chain of Thoughts or Few-shot Learning, is more effective in achieving the desired response?\n",
    "\n",
    "Query: What is the most probable diagnosis if a patient experiences a high fever?\n",
    "\n",
    "LLM Response: Sepsis (50%)\n",
    "\n",
    "Desired Response: Diagnosis: Sepsis, Probability: 50%\n",
    "\n",
    "### Answer\n",
    "**Recommendation: Few-shot Learning**\n",
    "- Few-shot learning is more effective because it allows you to provide examples in the desired format. By giving a few examples structured as `Diagnosis: [Condition], Probability: [Value]%`, the LLM can learn to mimic the format consistently.\n",
    "\n",
    "#### Advantages over Chain of Thoughts:\n",
    "- Chain of Thoughts is better suited for guiding the reasoning process, not for changing output formats.\n",
    "- Few-shot learning directly trains the LLM on the specific output structure desired."
   ]
  },
  {
   "cell_type": "markdown",
   "id": "85235dae",
   "metadata": {},
   "source": [
    "## 2. Wrong Response in Correct Format: Instruction Prompting vs. Few-shot Learning\n",
    "\n",
    "### Question\n",
    "For the following query the LLM provides a wrong response but it is presented in a correct format. Explain which of the given approaches, Instruction Prompting or Few-shot Learning, is more effective in achieving the desired response?\n",
    "\n",
    "Query: How many “p”s are in “Apple”?\n",
    "\n",
    "LLM Response: There are three “p”s in “Apple”\n",
    "\n",
    "Desired Response: There are two “p”s in “Apple”\n",
    "\n",
    "Instruction Prompting:\n",
    "1. Start with the first character of the word\n",
    "2. If the character is \"p\" add one to the total number of \"p\"s\n",
    "3. Move to the next character (if it exists)\n",
    "4. Repeat steps 2 and 3 till the last character of the word is processed\n",
    "\n",
    "Few-shot Learning:\n",
    "Q: How many “p”s are in “people”?\n",
    "A: There are two “p”s in “people”\n",
    "\n",
    "### Answer\n",
    "**Recommendation: Instruction Prompting**\n",
    "- Instruction prompting is more effective in this case as it provides explicit, step-by-step guidance on how to perform the task. This ensures the LLM follows a precise logic to count occurrences of \"p.\"\n",
    "\n",
    "#### Advantages over Few-shot Learning:\n",
    "- Few-shot learning relies on examples to generalize, but it may still fail for edge cases or variations not covered in the examples.\n",
    "- Instruction prompting explicitly enforces the correct procedure, ensuring accurate results across queries.\n",
    "\n",
    "---\n",
    "\n"
   ]
  },
  {
   "cell_type": "markdown",
   "id": "34779ce0",
   "metadata": {},
   "source": [
    "## 3. Chain of Thought for Net Profit Calculation\n",
    "\n",
    "### Question\n",
    "Design the steps of a Chain of Thought to break down the answer of the following query into simple steps that guide the LLM toward the correct response:\n",
    "\n",
    "Query: What is the net profit from buying 100 stock shares at $10 each and selling them at a price 20% higher?\n",
    "\n",
    "### Answer\n",
    "**Chain of Thought:**\n",
    "1. Calculate the total cost of buying 100 stock shares at $10 each:\n",
    "   - Total cost = 100 × $10 = $1000\n",
    "2. Calculate the selling price per share, which is 20% higher than the purchase price:\n",
    "   - Selling price per share = $10 + (20% × $10) = $10 + $2 = $12\n",
    "3. Calculate the total revenue from selling 100 stock shares at $12 each:\n",
    "   - Total revenue = 100 × $12 = $1200\n",
    "4. Calculate the net profit by subtracting the total cost from the total revenue:\n",
    "   - Net profit = $1200 - $1000 = $200\n",
    "\n",
    "**Final Answer:** The net profit is $200.\n"
   ]
  },
  {
   "cell_type": "markdown",
   "id": "8a620700",
   "metadata": {},
   "source": [
    "## 4. Program-Aided Language (PAL) Approach for Query Execution\n",
    "\n",
    "### Question\n",
    "Suppose that the LLM is capable of writing and executing the Python function `is_substring(string1, string2)` which returns True if string1 is substring of string2. Use Program-Aided Language (PAL) approach to design a prompt that requests the LLM to generate and execute `is_substring` function in a way that answers the following query:\n",
    "\n",
    "Query: Is “aware” a part of “Unawareness”?\n",
    "\n",
    "### Answer\n",
    "**Prompt:**"
   ]
  },
  {
   "cell_type": "markdown",
   "id": "6d27345b",
   "metadata": {},
   "source": [
    "Query: Is \"aware\" a part of \"Unawareness\"?\n",
    "\n",
    "To answer this query, write a Python function `is_substring(string1, string2)` that checks if `string1` is a substring of `string2`. Then execute the function with the following inputs:\n",
    "- string1 = \"aware\"\n",
    "- string2 = \"Unawareness\"\n",
    "\n",
    "Provide the result of the function execution."
   ]
  },
  {
   "cell_type": "code",
   "execution_count": 6,
   "id": "813ba072",
   "metadata": {},
   "outputs": [
    {
     "name": "stdout",
     "output_type": "stream",
     "text": [
      "The result is: True\n"
     ]
    }
   ],
   "source": [
    "def is_substring(string1, string2):\n",
    "    return string1 in string2\n",
    "\n",
    "# Execution:\n",
    "result = is_substring(\"aware\", \"Unawareness\")\n",
    "\n",
    "# Output:\n",
    "print(\"The result is: \" + str(result))"
   ]
  },
  {
   "cell_type": "code",
   "execution_count": null,
   "id": "a9cafcee",
   "metadata": {},
   "outputs": [],
   "source": []
  }
 ],
 "metadata": {
  "kernelspec": {
   "display_name": "Python 3 (ipykernel)",
   "language": "python",
   "name": "python3"
  },
  "language_info": {
   "codemirror_mode": {
    "name": "ipython",
    "version": 3
   },
   "file_extension": ".py",
   "mimetype": "text/x-python",
   "name": "python",
   "nbconvert_exporter": "python",
   "pygments_lexer": "ipython3",
   "version": "3.11.5"
  }
 },
 "nbformat": 4,
 "nbformat_minor": 5
}
